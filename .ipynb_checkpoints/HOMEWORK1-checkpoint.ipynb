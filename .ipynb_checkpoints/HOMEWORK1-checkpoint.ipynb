{
 "cells": [
  {
   "cell_type": "code",
   "execution_count": 28,
   "metadata": {},
   "outputs": [],
   "source": [
    "import random\n",
    "import networkx\n",
    "import matplotlib.pyplot as plt\n",
    "%matplotlib inline"
   ]
  },
  {
   "cell_type": "code",
   "execution_count": 29,
   "metadata": {},
   "outputs": [],
   "source": [
    "#Problem 1\n",
    "\n",
    "#定义语法内容\n",
    "grammar = \"\"\"\n",
    "sentence = adj noun verb adj noun2\n",
    "adj = adj_single 和 adj_single 的 | null\n",
    "adj_single = 漂亮  | 蓝色 | 好看\n",
    "adv = 安静地 | 静静地\n",
    "noun = 猫 | 女人 | 男人\n",
    "verb = adv 看着 | adv 坐着 \n",
    "noun2 = 桌子 | 皮球 \n",
    "\"\"\""
   ]
  },
  {
   "cell_type": "code",
   "execution_count": 30,
   "metadata": {},
   "outputs": [
    {
     "data": {
      "text/plain": [
       "{'sentence': [['adj', 'noun', 'verb', 'adj', 'noun2']],\n",
       " 'adj': [['adj_single', '和', 'adj_single', '的'], ['null']],\n",
       " 'adj_single': [['漂亮'], ['蓝色'], ['好看']],\n",
       " 'adv': [['安静地'], ['静静地']],\n",
       " 'noun': [['猫'], ['女人'], ['男人']],\n",
       " 'verb': [['adv', '看着'], ['adv', '坐着']],\n",
       " 'noun2': [['桌子'], ['皮球']]}"
      ]
     },
     "execution_count": 30,
     "metadata": {},
     "output_type": "execute_result"
    }
   ],
   "source": [
    "#code\n",
    "\n",
    "def build_pattern(grammar):\n",
    "    grammar_pattern = {}\n",
    "    for rule in grammar.split(\"\\n\"):\n",
    "        if not rule: \n",
    "            continue \n",
    "        rule = rule.rstrip()\n",
    "        key,value = [i.rstrip() for i in rule.split(\"=\")]\n",
    "        items = [i.rstrip().split() for i in value.split(\"|\")]\n",
    "        grammar_pattern[key] = items\n",
    "    return grammar_pattern\n",
    "\n",
    "grammar_pattern = build_pattern(grammar)\n",
    "grammar_pattern"
   ]
  },
  {
   "cell_type": "code",
   "execution_count": 31,
   "metadata": {},
   "outputs": [
    {
     "data": {
      "text/plain": [
       "'好看和好看的猫安静地看着好看和漂亮的桌子'"
      ]
     },
     "execution_count": 31,
     "metadata": {},
     "output_type": "execute_result"
    }
   ],
   "source": [
    "def generate_content(pattern, target):\n",
    "    if (target == \"null\"):\n",
    "        return \"\"\n",
    "    if target not in pattern:\n",
    "        return target\n",
    "    rule = random.choice(pattern[target])\n",
    "    output = \"\"\n",
    "    for token in rule:\n",
    "        output = output + generate_content(pattern, token)\n",
    "    return output\n",
    "\n",
    "setence = generate_content(grammar_pattern, 'sentence')\n",
    "setence"
   ]
  },
  {
   "cell_type": "code",
   "execution_count": null,
   "metadata": {},
   "outputs": [],
   "source": [
    "#Problem 2"
   ]
  },
  {
   "cell_type": "code",
   "execution_count": 37,
   "metadata": {},
   "outputs": [
    {
     "data": {
      "text/plain": [
       "{'A': {'B', 'C'},\n",
       " 'B': {'A', 'C'},\n",
       " 'C': {'A', 'B', 'D', 'E'},\n",
       " 'D': {'C'},\n",
       " 'E': {'C', 'F'},\n",
       " 'F': {'E'}}"
      ]
     },
     "execution_count": 37,
     "metadata": {},
     "output_type": "execute_result"
    },
    {
     "data": {
      "image/png": "[encoded data removed]",
      "text/plain": [
       "<Figure size 432x288 with 1 Axes>"
      ]
     },
     "metadata": {},
     "output_type": "display_data"
    }
   ],
   "source": [
    "#定义无向图\n",
    "graph = {\n",
    "    'A' :'B B B C', \n",
    "    'B' : 'A C', \n",
    "    'C' : 'A B D E',\n",
    "    'D' : 'C',\n",
    "    'E' : 'C F',\n",
    "    'F' : 'E'\n",
    "}\n",
    "for k in graph:\n",
    "    graph[k] = set(graph[k].split())\n",
    "\n",
    "\n",
    "\n",
    "#draw it\n",
    "Graph = networkx.Graph(graph)\n",
    "networkx.draw(Graph, with_labels=True)\n",
    "graph"
   ]
  },
  {
   "cell_type": "code",
   "execution_count": 56,
   "metadata": {},
   "outputs": [],
   "source": [
    "#Breadwidth first\n",
    "def bfs(start, graph):\n",
    "    seen = [start]\n",
    "    visited = []\n",
    "    queue = [start]\n",
    "    while(queue):\n",
    "        point = queue.pop(0)\n",
    "        print(\"visit\", point)\n",
    "        visited.append(point)\n",
    "        neighbors = graph[point]\n",
    "        for n in neighbors:\n",
    "            if n not in seen:\n",
    "                queue.append(n)\n",
    "                seen.append(n)\n",
    "        "
   ]
  },
  {
   "cell_type": "code",
   "execution_count": 57,
   "metadata": {},
   "outputs": [
    {
     "name": "stdout",
     "output_type": "stream",
     "text": [
      "visit A\n",
      "visit B\n",
      "visit C\n",
      "visit D\n",
      "visit E\n",
      "visit F\n"
     ]
    }
   ],
   "source": [
    "bfs('A', graph)"
   ]
  },
  {
   "cell_type": "code",
   "execution_count": 58,
   "metadata": {},
   "outputs": [],
   "source": [
    "#Depth First\n",
    "def dfs(start, graph):\n",
    "    seen = [start]\n",
    "    visited = []\n",
    "    stack = [start]\n",
    "    while(stack):\n",
    "        point = stack.pop()\n",
    "        print(\"visit\", point)\n",
    "        visited.append(point)\n",
    "        neighbors = graph[point]\n",
    "        for n in neighbors:\n",
    "            if n not in seen:\n",
    "                stack.append(n)\n",
    "                seen.append(n)"
   ]
  },
  {
   "cell_type": "code",
   "execution_count": 59,
   "metadata": {},
   "outputs": [
    {
     "name": "stdout",
     "output_type": "stream",
     "text": [
      "visit A\n",
      "visit C\n",
      "visit E\n",
      "visit F\n",
      "visit D\n",
      "visit B\n"
     ]
    }
   ],
   "source": [
    "dfs('A', graph)"
   ]
  },
  {
   "cell_type": "code",
   "execution_count": 60,
   "metadata": {},
   "outputs": [
    {
     "data": {
      "image/png": "[encoded data removed]",
      "text/plain": [
       "<Figure size 432x288 with 1 Axes>"
      ]
     },
     "metadata": {},
     "output_type": "display_data"
    }
   ],
   "source": [
    "#Problem 3\n",
    "#Mapping\n",
    "BJ = 'Beijing'\n",
    "SZ = 'Shenzhen'\n",
    "GZ = 'Guangzhou'\n",
    "WH = 'Wuhan'\n",
    "HLG = 'Heilongjiang'\n",
    "NY = 'New York City'\n",
    "CM = 'Chiangmai'\n",
    "SG = 'Singapore'\n",
    "air_route = {\n",
    "    BJ : {SZ, GZ, WH, HLG, NY}, \n",
    "    GZ : {WH, BJ, CM, SG},\n",
    "    SZ : {BJ, SG},\n",
    "    WH : {BJ, GZ},\n",
    "    HLG : {BJ},\n",
    "    CM : {GZ},\n",
    "    NY : {BJ}\n",
    "}\n",
    "air_route = networkx.Graph(air_route)\n",
    "networkx.draw(air_route, with_labels=True)"
   ]
  },
  {
   "cell_type": "code",
   "execution_count": 68,
   "metadata": {},
   "outputs": [
    {
     "name": "stdout",
     "output_type": "stream",
     "text": [
      "Shenzhen->Beijing->Wuhan\n",
      "Chiangmai->Guangzhou->Beijing->New York City\n",
      "Beijing->Guangzhou\n"
     ]
    }
   ],
   "source": [
    "def find_route(route,start,destination):\n",
    "    paths = [[start]]\n",
    "    end_with = [start]\n",
    "    while(paths):\n",
    "        path = paths.pop(0)\n",
    "        prev = path[-1]\n",
    "        neighbors = route[prev]\n",
    "        for n in neighbors:\n",
    "            if n not in end_with:\n",
    "                #print(\"see\",n)\n",
    "                if n == destination:\n",
    "                    newpath = path + [n]\n",
    "                    return newpath\n",
    "                newpath = path + [n]\n",
    "                paths.append(newpath)\n",
    "                end_with.append(n)\n",
    "    return []\n",
    "\n",
    "path = find_route(air_route, SZ, WH)\n",
    "print(\"->\".join(path))\n",
    "path = find_route(air_route, CM, NY)\n",
    "print(\"->\".join(path))\n",
    "path = find_route(air_route, BJ, GZ)\n",
    "print(\"->\".join(path))"
   ]
  },
  {
   "cell_type": "code",
   "execution_count": null,
   "metadata": {},
   "outputs": [],
   "source": []
  }
 ],
 "metadata": {
  "kernelspec": {
   "display_name": "Python 3",
   "language": "python",
   "name": "python3"
  },
  "language_info": {
   "codemirror_mode": {
    "name": "ipython",
    "version": 3
   },
   "file_extension": ".py",
   "mimetype": "text/x-python",
   "name": "python",
   "nbconvert_exporter": "python",
   "pygments_lexer": "ipython3",
   "version": "3.6.5"
  }
 },
 "nbformat": 4,
 "nbformat_minor": 2
}
