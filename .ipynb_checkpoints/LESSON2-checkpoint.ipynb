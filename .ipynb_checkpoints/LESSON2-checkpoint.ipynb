{
 "cells": [
  {
   "cell_type": "code",
   "execution_count": 48,
   "metadata": {},
   "outputs": [],
   "source": [
    "filename = \"/Users/jin/Downloads/80k_articles.txt\""
   ]
  },
  {
   "cell_type": "code",
   "execution_count": 49,
   "metadata": {},
   "outputs": [
    {
     "data": {
      "text/plain": [
       "'新华社华盛顿４月１３日电记者林小春寻找外星生命目前最理想的地点可能是土星卫星土卫二上的冰封小世界美国航天局１３日宣布卡西尼探测器在土卫二喷出的羽流中探测到氢气这意味着土卫二具备生命存在的几乎所有已知要素n这项发表在美国科学杂志上的研究显示土卫二羽流中９８是水约１是氢气其余是二氧化碳甲烷和氨等组成的混合物n卡西尼项目科学家琳达施皮尔克当天在网'"
      ]
     },
     "execution_count": 49,
     "metadata": {},
     "output_type": "execute_result"
    }
   ],
   "source": [
    "import re\n",
    "import requests\n",
    "def tokenize(string):\n",
    "    tokens = re.findall(r'[\\w|\\d]+', string)\n",
    "    #print(tokens)\n",
    "    return ''.join(tokens)\n",
    "tokenize('\\u3000\\u3000新华社华盛顿４月１３日电（记者林小春）寻找外星生命，目前最理想的地点可能是土星卫星土卫二上的冰封小世界。美国航天局１３日宣布，“卡西尼”探测器在土卫二喷出的羽流中探测到氢气，这意味着土卫二具备生命存在的几乎所有已知要素。\\\\n\\u3000\\u3000这项发表在美国《科学》杂志上的研究显示，土卫二羽流中９８％是水，约１％是氢气，其余是二氧化碳、甲烷和氨等组成的混合物。\\\\n\\u3000\\u3000“卡西尼”项目科学家琳达·施皮尔克当天在网')\n"
   ]
  },
  {
   "cell_type": "code",
   "execution_count": 50,
   "metadata": {},
   "outputs": [
    {
     "data": {
      "text/plain": [
       "'新华社照片东莞广东2017年4月7日n体'"
      ]
     },
     "execution_count": 50,
     "metadata": {},
     "output_type": "execute_result"
    }
   ],
   "source": [
    "all_content = open(filename).read()\n",
    "ALL_CHARACTER = tokenize(all_content)\n",
    "len(ALL_CHARACTER)\n",
    "ALL_CHARACTER[:20]"
   ]
  },
  {
   "cell_type": "code",
   "execution_count": 51,
   "metadata": {},
   "outputs": [],
   "source": [
    "#Unigram\n",
    "from collections import Counter\n"
   ]
  },
  {
   "cell_type": "code",
   "execution_count": 52,
   "metadata": {},
   "outputs": [
    {
     "data": {
      "text/plain": [
       "Counter({'a': 2, 's': 2, 'j': 2, 'o': 1, 'd': 1})"
      ]
     },
     "execution_count": 52,
     "metadata": {},
     "output_type": "execute_result"
    }
   ],
   "source": [
    "a = 'asjoajsd'\n",
    "counter = Counter(a)\n",
    "counter"
   ]
  },
  {
   "cell_type": "code",
   "execution_count": 53,
   "metadata": {},
   "outputs": [
    {
     "data": {
      "text/plain": [
       "[('的', 635684), ('n', 605563), ('国', 303683), ('1', 285430), ('在', 273451)]"
      ]
     },
     "execution_count": 53,
     "metadata": {},
     "output_type": "execute_result"
    }
   ],
   "source": [
    "all_character_counts = Counter(ALL_CHARACTER)\n",
    "common_chars = all_character_counts.most_common()\n",
    "common_chars[:5]"
   ]
  },
  {
   "cell_type": "code",
   "execution_count": 54,
   "metadata": {},
   "outputs": [
    {
     "data": {
      "image/png": "[encoded data removed]",
      "text/plain": [
       "<Figure size 432x288 with 1 Axes>"
      ]
     },
     "metadata": {},
     "output_type": "display_data"
    }
   ],
   "source": [
    "import  matplotlib.pyplot  as plt\n",
    "from matplotlib.pyplot import yscale, xscale, title, plot\n",
    "M = all_character_counts.most_common()[0][1]\n",
    "yscale('log'); xscale('log'); title('Frequency of n-th most frequent word and 1/n line.')\n",
    "plot([c for (w, c) in all_character_counts.most_common()])\n",
    "plot([M/i for i in range(1, len(all_character_counts)+1)]);\n",
    "#confuse, why we draw this line??"
   ]
  },
  {
   "cell_type": "code",
   "execution_count": 55,
   "metadata": {},
   "outputs": [
    {
     "data": {
      "text/plain": [
       "0.00024628292873887705"
      ]
     },
     "execution_count": 55,
     "metadata": {},
     "output_type": "execute_result"
    }
   ],
   "source": [
    "#get char prob\n",
    "def normal_get_char_prob(char):\n",
    "    all_occurences = sum(all_character_counts.values())\n",
    "    return all_character_counts[char]/all_occurences\n",
    "normal_get_char_prob('你')"
   ]
  },
  {
   "cell_type": "code",
   "execution_count": 56,
   "metadata": {},
   "outputs": [
    {
     "name": "stdout",
     "output_type": "stream",
     "text": [
      "time is normal_get_char_prob : 0.07694292068481445\n"
     ]
    }
   ],
   "source": [
    "#eval time cost\n",
    "import time\n",
    "def timmer(func, argc, times):\n",
    "    start_time = time.time()\n",
    "    for _ in range(times):\n",
    "        func(argc)\n",
    "    end_time = time.time()\n",
    "    print(\"time is\", func.__name__, \":\", end_time - start_time)\n",
    "\n",
    "timmer(normal_get_char_prob, '你', 1000)"
   ]
  },
  {
   "cell_type": "code",
   "execution_count": 57,
   "metadata": {},
   "outputs": [
    {
     "name": "stdout",
     "output_type": "stream",
     "text": [
      "time is get_prob : 0.0036160945892333984\n"
     ]
    }
   ],
   "source": [
    "# evolution \n",
    "def get_char_prob_func(counter):\n",
    "    all_occurences = sum(counter.values())\n",
    "    min_occurences = min(counter.values())\n",
    "    def get_prob(char):\n",
    "        char = tokenize(char)\n",
    "        counts = counter[char]\n",
    "        if not counts :\n",
    "            counts = min_occurences\n",
    "        return counts/all_occurences\n",
    "    return get_prob\n",
    "\n",
    "get_char_prob = get_char_prob_func(all_character_counts)\n",
    "\n",
    "timmer(get_char_prob, '你', 1000)"
   ]
  },
  {
   "cell_type": "code",
   "execution_count": 58,
   "metadata": {},
   "outputs": [
    {
     "data": {
      "text/plain": [
       "4950"
      ]
     },
     "execution_count": 58,
     "metadata": {},
     "output_type": "execute_result"
    }
   ],
   "source": [
    "from functools import reduce\n",
    "from operator import mul, add\n",
    "reduce(add, range(100))"
   ]
  },
  {
   "cell_type": "code",
   "execution_count": 59,
   "metadata": {},
   "outputs": [
    {
     "name": "stdout",
     "output_type": "stream",
     "text": [
      "1.0772206117248681e-23\n",
      "1.2190417426210197e-24\n"
     ]
    }
   ],
   "source": [
    "def prob_of_string(string):\n",
    "    return reduce(mul, [get_char_prob(char) for char in string])\n",
    "\n",
    "print(prob_of_string(\"广州西湖真美啊\"))\n",
    "print(prob_of_string(\"杭州西湖真美啊\"))"
   ]
  },
  {
   "cell_type": "code",
   "execution_count": 60,
   "metadata": {},
   "outputs": [
    {
     "name": "stdout",
     "output_type": "stream",
     "text": [
      "******************\n",
      "前天晚上吃晚饭的时候,prob1.2205917468406523e-31\n",
      "前天晚上吃早饭的时候,prob1.4203006420690778e-31\n",
      "******************\n",
      "正是一个好看的小猫,prob3.2525875244545557e-25\n",
      "真是一个好看的小猫,prob1.0219933874960867e-25\n",
      "******************\n",
      "我无言以对，简直,prob3.7422941328709655e-22\n",
      "我简直无言以对,prob3.7422941328709655e-22\n"
     ]
    }
   ],
   "source": [
    "pair = \"\"\"前天晚上吃晚饭的时候\n",
    "前天晚上吃早饭的时候\"\"\".split('\\n')\n",
    "\n",
    "pair2 = \"\"\"正是一个好看的小猫\n",
    "真是一个好看的小猫\"\"\".split('\\n')\n",
    "\n",
    "pair3 = \"\"\"我无言以对，简直\n",
    "我简直无言以对\"\"\".split('\\n')\n",
    "pairs = [pair, pair2, pair3]\n",
    "\n",
    "def get_prob_performance(language_model, pairs):\n",
    "    for pair in pairs:\n",
    "        print(\"*\"*18)\n",
    "        print(\"{},prob{}\".format(pair[0], language_model(tokenize(pair[0]))))\n",
    "        print(\"{},prob{}\".format(pair[1], language_model(tokenize(pair[1]))))\n",
    "\n",
    "get_prob_performance(prob_of_string, pairs)"
   ]
  },
  {
   "cell_type": "code",
   "execution_count": 61,
   "metadata": {},
   "outputs": [],
   "source": [
    "#2-gram \n",
    "gram_length = 2\n",
    "two_gram_counts = Counter([ALL_CHARACTER[i:i+gram_length] for i in range(len(ALL_CHARACTER)-gram_length)])"
   ]
  },
  {
   "cell_type": "code",
   "execution_count": 62,
   "metadata": {},
   "outputs": [
    {
     "data": {
      "text/plain": [
       "[('新华', 135490),\n",
       " ('华社', 129104),\n",
       " ('20', 123427),\n",
       " ('nn', 118789),\n",
       " ('01', 102583)]"
      ]
     },
     "execution_count": 62,
     "metadata": {},
     "output_type": "execute_result"
    }
   ],
   "source": [
    "two_gram_counts.most_common()[:5]"
   ]
  },
  {
   "cell_type": "code",
   "execution_count": 63,
   "metadata": {},
   "outputs": [
    {
     "name": "stdout",
     "output_type": "stream",
     "text": [
      "0.002615717923529734\n",
      "3.9651453299752576e-05\n"
     ]
    }
   ],
   "source": [
    "get_two_prob = get_char_prob_func(two_gram_counts)\n",
    "print(get_two_prob(\"中国\"))\n",
    "print(get_two_prob(\"国中\"))"
   ]
  },
  {
   "cell_type": "code",
   "execution_count": 78,
   "metadata": {},
   "outputs": [
    {
     "name": "stdout",
     "output_type": "stream",
     "text": [
      "1.0953916572223504e-14\n",
      "1.1580304688050085e-17\n",
      "2.6328785680709976e-14\n",
      "2.9254206311899967e-15\n",
      "1.0953916572223504e-14\n",
      "8.498728375000995e-16\n"
     ]
    }
   ],
   "source": [
    "def get_2_gram_prob(word, prev):\n",
    "    return get_two_prob(prev+word) / get_char_prob(prev)\n",
    "\n",
    "def get_2_gram_prob_string(string):\n",
    "    probs = []\n",
    "    for counter, value in enumerate(string):\n",
    "        if counter == len(string)-1:\n",
    "            continue\n",
    "        prev = '<s>' if counter == 0 else string[counter-1]\n",
    "        probs+=[get_2_gram_prob(value,prev)]\n",
    "    return reduce(mul, probs)\n",
    "\n",
    "print(get_2_gram_prob_string(\"发表了重要的讲话\"))\n",
    "print(get_2_gram_prob_string(\"发表了正要的讲话\"))\n",
    "print(get_2_gram_prob_string(\"小米手机很棒\"))\n",
    "print(get_2_gram_prob_string(\"小米手机好喝\"))\n",
    "print(get_2_gram_prob_string(\"发表了重要的讲话\"))\n",
    "print(get_2_gram_prob_string(\"发表了重要的僵化\"))"
   ]
  },
  {
   "cell_type": "code",
   "execution_count": 73,
   "metadata": {},
   "outputs": [
    {
     "name": "stdout",
     "output_type": "stream",
     "text": [
      "******************\n",
      "前天晚上吃晚饭的时候,prob1.2205917468406523e-31\n",
      "前天晚上吃早饭的时候,prob1.4203006420690778e-31\n",
      "******************\n",
      "正是一个好看的小猫,prob3.2525875244545557e-25\n",
      "真是一个好看的小猫,prob1.0219933874960867e-25\n",
      "******************\n",
      "我无言以对，简直,prob3.7422941328709655e-22\n",
      "我简直无言以对,prob3.7422941328709655e-22\n"
     ]
    }
   ],
   "source": [
    "get_prob_performance(prob_of_string, pairs)"
   ]
  },
  {
   "cell_type": "code",
   "execution_count": 74,
   "metadata": {},
   "outputs": [
    {
     "name": "stdout",
     "output_type": "stream",
     "text": [
      "******************\n",
      "前天晚上吃晚饭的时候,prob3.270782484864588e-22\n",
      "前天晚上吃早饭的时候,prob8.351155674415796e-22\n",
      "******************\n",
      "正是一个好看的小猫,prob2.5171350111258392e-17\n",
      "真是一个好看的小猫,prob1.7213253902915956e-17\n",
      "******************\n",
      "我无言以对，简直,prob1.4860570121584027e-19\n",
      "我简直无言以对,prob2.0133471311095815e-18\n"
     ]
    }
   ],
   "source": [
    "get_prob_performance(get_2_gram_prob_string, pairs)"
   ]
  },
  {
   "cell_type": "code",
   "execution_count": null,
   "metadata": {},
   "outputs": [],
   "source": []
  }
 ],
 "metadata": {
  "kernelspec": {
   "display_name": "Python 3",
   "language": "python",
   "name": "python3"
  }
 },
 "nbformat": 4,
 "nbformat_minor": 2
}
